{
  "nbformat": 4,
  "nbformat_minor": 0,
  "metadata": {
    "colab": {
      "provenance": []
    },
    "kernelspec": {
      "name": "python3",
      "display_name": "Python 3"
    },
    "language_info": {
      "name": "python"
    }
  },
  "cells": [
    {
      "cell_type": "markdown",
      "source": [
        "**Задание 1.**"
      ],
      "metadata": {
        "id": "x0A-sBuJwurY"
      }
    },
    {
      "cell_type": "code",
      "source": [
        "import pandas as pd\n",
        "import matplotlib.pyplot as plt\n",
        "import seaborn as sns"
      ],
      "metadata": {
        "id": "yX_YFn5sw8fP"
      },
      "execution_count": null,
      "outputs": []
    },
    {
      "cell_type": "code",
      "source": [
        "from google.colab import files\n",
        "uploaded = files.upload()"
      ],
      "metadata": {
        "colab": {
          "base_uri": "https://localhost:8080/",
          "height": 109
        },
        "id": "RvuJsn5RyGgW",
        "outputId": "9f921f5c-44e2-40be-fc72-ce4c4b83ef17"
      },
      "execution_count": null,
      "outputs": [
        {
          "output_type": "display_data",
          "data": {
            "text/plain": [
              "<IPython.core.display.HTML object>"
            ],
            "text/html": [
              "\n",
              "     <input type=\"file\" id=\"files-08518f00-1d6a-4431-bc92-08cd815050b2\" name=\"files[]\" multiple disabled\n",
              "        style=\"border:none\" />\n",
              "     <output id=\"result-08518f00-1d6a-4431-bc92-08cd815050b2\">\n",
              "      Upload widget is only available when the cell has been executed in the\n",
              "      current browser session. Please rerun this cell to enable.\n",
              "      </output>\n",
              "      <script>// Copyright 2017 Google LLC\n",
              "//\n",
              "// Licensed under the Apache License, Version 2.0 (the \"License\");\n",
              "// you may not use this file except in compliance with the License.\n",
              "// You may obtain a copy of the License at\n",
              "//\n",
              "//      http://www.apache.org/licenses/LICENSE-2.0\n",
              "//\n",
              "// Unless required by applicable law or agreed to in writing, software\n",
              "// distributed under the License is distributed on an \"AS IS\" BASIS,\n",
              "// WITHOUT WARRANTIES OR CONDITIONS OF ANY KIND, either express or implied.\n",
              "// See the License for the specific language governing permissions and\n",
              "// limitations under the License.\n",
              "\n",
              "/**\n",
              " * @fileoverview Helpers for google.colab Python module.\n",
              " */\n",
              "(function(scope) {\n",
              "function span(text, styleAttributes = {}) {\n",
              "  const element = document.createElement('span');\n",
              "  element.textContent = text;\n",
              "  for (const key of Object.keys(styleAttributes)) {\n",
              "    element.style[key] = styleAttributes[key];\n",
              "  }\n",
              "  return element;\n",
              "}\n",
              "\n",
              "// Max number of bytes which will be uploaded at a time.\n",
              "const MAX_PAYLOAD_SIZE = 100 * 1024;\n",
              "\n",
              "function _uploadFiles(inputId, outputId) {\n",
              "  const steps = uploadFilesStep(inputId, outputId);\n",
              "  const outputElement = document.getElementById(outputId);\n",
              "  // Cache steps on the outputElement to make it available for the next call\n",
              "  // to uploadFilesContinue from Python.\n",
              "  outputElement.steps = steps;\n",
              "\n",
              "  return _uploadFilesContinue(outputId);\n",
              "}\n",
              "\n",
              "// This is roughly an async generator (not supported in the browser yet),\n",
              "// where there are multiple asynchronous steps and the Python side is going\n",
              "// to poll for completion of each step.\n",
              "// This uses a Promise to block the python side on completion of each step,\n",
              "// then passes the result of the previous step as the input to the next step.\n",
              "function _uploadFilesContinue(outputId) {\n",
              "  const outputElement = document.getElementById(outputId);\n",
              "  const steps = outputElement.steps;\n",
              "\n",
              "  const next = steps.next(outputElement.lastPromiseValue);\n",
              "  return Promise.resolve(next.value.promise).then((value) => {\n",
              "    // Cache the last promise value to make it available to the next\n",
              "    // step of the generator.\n",
              "    outputElement.lastPromiseValue = value;\n",
              "    return next.value.response;\n",
              "  });\n",
              "}\n",
              "\n",
              "/**\n",
              " * Generator function which is called between each async step of the upload\n",
              " * process.\n",
              " * @param {string} inputId Element ID of the input file picker element.\n",
              " * @param {string} outputId Element ID of the output display.\n",
              " * @return {!Iterable<!Object>} Iterable of next steps.\n",
              " */\n",
              "function* uploadFilesStep(inputId, outputId) {\n",
              "  const inputElement = document.getElementById(inputId);\n",
              "  inputElement.disabled = false;\n",
              "\n",
              "  const outputElement = document.getElementById(outputId);\n",
              "  outputElement.innerHTML = '';\n",
              "\n",
              "  const pickedPromise = new Promise((resolve) => {\n",
              "    inputElement.addEventListener('change', (e) => {\n",
              "      resolve(e.target.files);\n",
              "    });\n",
              "  });\n",
              "\n",
              "  const cancel = document.createElement('button');\n",
              "  inputElement.parentElement.appendChild(cancel);\n",
              "  cancel.textContent = 'Cancel upload';\n",
              "  const cancelPromise = new Promise((resolve) => {\n",
              "    cancel.onclick = () => {\n",
              "      resolve(null);\n",
              "    };\n",
              "  });\n",
              "\n",
              "  // Wait for the user to pick the files.\n",
              "  const files = yield {\n",
              "    promise: Promise.race([pickedPromise, cancelPromise]),\n",
              "    response: {\n",
              "      action: 'starting',\n",
              "    }\n",
              "  };\n",
              "\n",
              "  cancel.remove();\n",
              "\n",
              "  // Disable the input element since further picks are not allowed.\n",
              "  inputElement.disabled = true;\n",
              "\n",
              "  if (!files) {\n",
              "    return {\n",
              "      response: {\n",
              "        action: 'complete',\n",
              "      }\n",
              "    };\n",
              "  }\n",
              "\n",
              "  for (const file of files) {\n",
              "    const li = document.createElement('li');\n",
              "    li.append(span(file.name, {fontWeight: 'bold'}));\n",
              "    li.append(span(\n",
              "        `(${file.type || 'n/a'}) - ${file.size} bytes, ` +\n",
              "        `last modified: ${\n",
              "            file.lastModifiedDate ? file.lastModifiedDate.toLocaleDateString() :\n",
              "                                    'n/a'} - `));\n",
              "    const percent = span('0% done');\n",
              "    li.appendChild(percent);\n",
              "\n",
              "    outputElement.appendChild(li);\n",
              "\n",
              "    const fileDataPromise = new Promise((resolve) => {\n",
              "      const reader = new FileReader();\n",
              "      reader.onload = (e) => {\n",
              "        resolve(e.target.result);\n",
              "      };\n",
              "      reader.readAsArrayBuffer(file);\n",
              "    });\n",
              "    // Wait for the data to be ready.\n",
              "    let fileData = yield {\n",
              "      promise: fileDataPromise,\n",
              "      response: {\n",
              "        action: 'continue',\n",
              "      }\n",
              "    };\n",
              "\n",
              "    // Use a chunked sending to avoid message size limits. See b/62115660.\n",
              "    let position = 0;\n",
              "    do {\n",
              "      const length = Math.min(fileData.byteLength - position, MAX_PAYLOAD_SIZE);\n",
              "      const chunk = new Uint8Array(fileData, position, length);\n",
              "      position += length;\n",
              "\n",
              "      const base64 = btoa(String.fromCharCode.apply(null, chunk));\n",
              "      yield {\n",
              "        response: {\n",
              "          action: 'append',\n",
              "          file: file.name,\n",
              "          data: base64,\n",
              "        },\n",
              "      };\n",
              "\n",
              "      let percentDone = fileData.byteLength === 0 ?\n",
              "          100 :\n",
              "          Math.round((position / fileData.byteLength) * 100);\n",
              "      percent.textContent = `${percentDone}% done`;\n",
              "\n",
              "    } while (position < fileData.byteLength);\n",
              "  }\n",
              "\n",
              "  // All done.\n",
              "  yield {\n",
              "    response: {\n",
              "      action: 'complete',\n",
              "    }\n",
              "  };\n",
              "}\n",
              "\n",
              "scope.google = scope.google || {};\n",
              "scope.google.colab = scope.google.colab || {};\n",
              "scope.google.colab._files = {\n",
              "  _uploadFiles,\n",
              "  _uploadFilesContinue,\n",
              "};\n",
              "})(self);\n",
              "</script> "
            ]
          },
          "metadata": {}
        },
        {
          "output_type": "stream",
          "name": "stdout",
          "text": [
            "Saving Mailfit — Тестовое задание на позицию аналитика 2.xlsx to Mailfit — Тестовое задание на позицию аналитика 2.xlsx\n",
            "Saving Mailfit — Тестовое задание на позицию аналитика.xlsx to Mailfit — Тестовое задание на позицию аналитика.xlsx\n"
          ]
        }
      ]
    },
    {
      "cell_type": "code",
      "source": [
        "list_1 = pd.read_csv('Mailfit — Тестовое задание на позицию аналитика - data 1_1.csv')\n",
        "list_2 = pd.read_csv('Mailfit — Тестовое задание на позицию аналитика - data 1_2.csv')"
      ],
      "metadata": {
        "id": "UKRCh5akxFuE"
      },
      "execution_count": null,
      "outputs": []
    },
    {
      "cell_type": "code",
      "source": [
        "list_1.info()"
      ],
      "metadata": {
        "colab": {
          "base_uri": "https://localhost:8080/"
        },
        "id": "UUMm75m9yuz-",
        "outputId": "8c41b0d3-ff0e-48ef-ae8e-7448d5a56839"
      },
      "execution_count": null,
      "outputs": [
        {
          "output_type": "stream",
          "name": "stdout",
          "text": [
            "<class 'pandas.core.frame.DataFrame'>\n",
            "RangeIndex: 42 entries, 0 to 41\n",
            "Data columns (total 10 columns):\n",
            " #   Column            Non-Null Count  Dtype \n",
            "---  ------            --------------  ----- \n",
            " 0   Тема письма       42 non-null     object\n",
            " 1   Сегмент           42 non-null     object\n",
            " 2   Дата рассылки     42 non-null     object\n",
            " 3   Время отправки    42 non-null     object\n",
            " 4   Отправлено писем  42 non-null     int64 \n",
            " 5   Отписки           42 non-null     int64 \n",
            " 6   Доставлено        42 non-null     int64 \n",
            " 7   Открытий          42 non-null     int64 \n",
            " 8   Заказы            42 non-null     int64 \n",
            " 9   Доход             42 non-null     int64 \n",
            "dtypes: int64(6), object(4)\n",
            "memory usage: 3.4+ KB\n"
          ]
        }
      ]
    },
    {
      "cell_type": "code",
      "source": [
        "list_1.head()"
      ],
      "metadata": {
        "colab": {
          "base_uri": "https://localhost:8080/",
          "height": 206
        },
        "id": "FaOGeNRrzK4X",
        "outputId": "782bd8b9-3194-41a1-ba2e-9793d96be50a"
      },
      "execution_count": null,
      "outputs": [
        {
          "output_type": "execute_result",
          "data": {
            "text/plain": [
              "  Тема письма   Сегмент Дата рассылки Время отправки  Отправлено писем  \\\n",
              "0       Тема1  Сегмент1    04.06.2021       15:00:00            561114   \n",
              "1       Тема2  Сегмент1    07.06.2021       17:22:00            557128   \n",
              "2       Тема3  Сегмент1    11.06.2021       16:00:00            555455   \n",
              "3       Тема4  Сегмент2    14.06.2021       15:00:00            554383   \n",
              "4       Тема5  Сегмент1    18.06.2021       16:00:00            552486   \n",
              "\n",
              "   Отписки  Доставлено  Открытий  Заказы   Доход   \n",
              "0      440      560873     70321      75  7613776  \n",
              "1      476      556910     88384     209  6907996  \n",
              "2      504      555214     70835      70  3558583  \n",
              "3      509      554144     74813      75  6207904  \n",
              "4      435      552281     71378      52  6905844  "
            ],
            "text/html": [
              "\n",
              "  <div id=\"df-1dd2566a-96c6-49ba-9780-26e39253a968\">\n",
              "    <div class=\"colab-df-container\">\n",
              "      <div>\n",
              "<style scoped>\n",
              "    .dataframe tbody tr th:only-of-type {\n",
              "        vertical-align: middle;\n",
              "    }\n",
              "\n",
              "    .dataframe tbody tr th {\n",
              "        vertical-align: top;\n",
              "    }\n",
              "\n",
              "    .dataframe thead th {\n",
              "        text-align: right;\n",
              "    }\n",
              "</style>\n",
              "<table border=\"1\" class=\"dataframe\">\n",
              "  <thead>\n",
              "    <tr style=\"text-align: right;\">\n",
              "      <th></th>\n",
              "      <th>Тема письма</th>\n",
              "      <th>Сегмент</th>\n",
              "      <th>Дата рассылки</th>\n",
              "      <th>Время отправки</th>\n",
              "      <th>Отправлено писем</th>\n",
              "      <th>Отписки</th>\n",
              "      <th>Доставлено</th>\n",
              "      <th>Открытий</th>\n",
              "      <th>Заказы</th>\n",
              "      <th>Доход</th>\n",
              "    </tr>\n",
              "  </thead>\n",
              "  <tbody>\n",
              "    <tr>\n",
              "      <th>0</th>\n",
              "      <td>Тема1</td>\n",
              "      <td>Сегмент1</td>\n",
              "      <td>04.06.2021</td>\n",
              "      <td>15:00:00</td>\n",
              "      <td>561114</td>\n",
              "      <td>440</td>\n",
              "      <td>560873</td>\n",
              "      <td>70321</td>\n",
              "      <td>75</td>\n",
              "      <td>7613776</td>\n",
              "    </tr>\n",
              "    <tr>\n",
              "      <th>1</th>\n",
              "      <td>Тема2</td>\n",
              "      <td>Сегмент1</td>\n",
              "      <td>07.06.2021</td>\n",
              "      <td>17:22:00</td>\n",
              "      <td>557128</td>\n",
              "      <td>476</td>\n",
              "      <td>556910</td>\n",
              "      <td>88384</td>\n",
              "      <td>209</td>\n",
              "      <td>6907996</td>\n",
              "    </tr>\n",
              "    <tr>\n",
              "      <th>2</th>\n",
              "      <td>Тема3</td>\n",
              "      <td>Сегмент1</td>\n",
              "      <td>11.06.2021</td>\n",
              "      <td>16:00:00</td>\n",
              "      <td>555455</td>\n",
              "      <td>504</td>\n",
              "      <td>555214</td>\n",
              "      <td>70835</td>\n",
              "      <td>70</td>\n",
              "      <td>3558583</td>\n",
              "    </tr>\n",
              "    <tr>\n",
              "      <th>3</th>\n",
              "      <td>Тема4</td>\n",
              "      <td>Сегмент2</td>\n",
              "      <td>14.06.2021</td>\n",
              "      <td>15:00:00</td>\n",
              "      <td>554383</td>\n",
              "      <td>509</td>\n",
              "      <td>554144</td>\n",
              "      <td>74813</td>\n",
              "      <td>75</td>\n",
              "      <td>6207904</td>\n",
              "    </tr>\n",
              "    <tr>\n",
              "      <th>4</th>\n",
              "      <td>Тема5</td>\n",
              "      <td>Сегмент1</td>\n",
              "      <td>18.06.2021</td>\n",
              "      <td>16:00:00</td>\n",
              "      <td>552486</td>\n",
              "      <td>435</td>\n",
              "      <td>552281</td>\n",
              "      <td>71378</td>\n",
              "      <td>52</td>\n",
              "      <td>6905844</td>\n",
              "    </tr>\n",
              "  </tbody>\n",
              "</table>\n",
              "</div>\n",
              "      <button class=\"colab-df-convert\" onclick=\"convertToInteractive('df-1dd2566a-96c6-49ba-9780-26e39253a968')\"\n",
              "              title=\"Convert this dataframe to an interactive table.\"\n",
              "              style=\"display:none;\">\n",
              "        \n",
              "  <svg xmlns=\"http://www.w3.org/2000/svg\" height=\"24px\"viewBox=\"0 0 24 24\"\n",
              "       width=\"24px\">\n",
              "    <path d=\"M0 0h24v24H0V0z\" fill=\"none\"/>\n",
              "    <path d=\"M18.56 5.44l.94 2.06.94-2.06 2.06-.94-2.06-.94-.94-2.06-.94 2.06-2.06.94zm-11 1L8.5 8.5l.94-2.06 2.06-.94-2.06-.94L8.5 2.5l-.94 2.06-2.06.94zm10 10l.94 2.06.94-2.06 2.06-.94-2.06-.94-.94-2.06-.94 2.06-2.06.94z\"/><path d=\"M17.41 7.96l-1.37-1.37c-.4-.4-.92-.59-1.43-.59-.52 0-1.04.2-1.43.59L10.3 9.45l-7.72 7.72c-.78.78-.78 2.05 0 2.83L4 21.41c.39.39.9.59 1.41.59.51 0 1.02-.2 1.41-.59l7.78-7.78 2.81-2.81c.8-.78.8-2.07 0-2.86zM5.41 20L4 18.59l7.72-7.72 1.47 1.35L5.41 20z\"/>\n",
              "  </svg>\n",
              "      </button>\n",
              "      \n",
              "  <style>\n",
              "    .colab-df-container {\n",
              "      display:flex;\n",
              "      flex-wrap:wrap;\n",
              "      gap: 12px;\n",
              "    }\n",
              "\n",
              "    .colab-df-convert {\n",
              "      background-color: #E8F0FE;\n",
              "      border: none;\n",
              "      border-radius: 50%;\n",
              "      cursor: pointer;\n",
              "      display: none;\n",
              "      fill: #1967D2;\n",
              "      height: 32px;\n",
              "      padding: 0 0 0 0;\n",
              "      width: 32px;\n",
              "    }\n",
              "\n",
              "    .colab-df-convert:hover {\n",
              "      background-color: #E2EBFA;\n",
              "      box-shadow: 0px 1px 2px rgba(60, 64, 67, 0.3), 0px 1px 3px 1px rgba(60, 64, 67, 0.15);\n",
              "      fill: #174EA6;\n",
              "    }\n",
              "\n",
              "    [theme=dark] .colab-df-convert {\n",
              "      background-color: #3B4455;\n",
              "      fill: #D2E3FC;\n",
              "    }\n",
              "\n",
              "    [theme=dark] .colab-df-convert:hover {\n",
              "      background-color: #434B5C;\n",
              "      box-shadow: 0px 1px 3px 1px rgba(0, 0, 0, 0.15);\n",
              "      filter: drop-shadow(0px 1px 2px rgba(0, 0, 0, 0.3));\n",
              "      fill: #FFFFFF;\n",
              "    }\n",
              "  </style>\n",
              "\n",
              "      <script>\n",
              "        const buttonEl =\n",
              "          document.querySelector('#df-1dd2566a-96c6-49ba-9780-26e39253a968 button.colab-df-convert');\n",
              "        buttonEl.style.display =\n",
              "          google.colab.kernel.accessAllowed ? 'block' : 'none';\n",
              "\n",
              "        async function convertToInteractive(key) {\n",
              "          const element = document.querySelector('#df-1dd2566a-96c6-49ba-9780-26e39253a968');\n",
              "          const dataTable =\n",
              "            await google.colab.kernel.invokeFunction('convertToInteractive',\n",
              "                                                     [key], {});\n",
              "          if (!dataTable) return;\n",
              "\n",
              "          const docLinkHtml = 'Like what you see? Visit the ' +\n",
              "            '<a target=\"_blank\" href=https://colab.research.google.com/notebooks/data_table.ipynb>data table notebook</a>'\n",
              "            + ' to learn more about interactive tables.';\n",
              "          element.innerHTML = '';\n",
              "          dataTable['output_type'] = 'display_data';\n",
              "          await google.colab.output.renderOutput(dataTable, element);\n",
              "          const docLink = document.createElement('div');\n",
              "          docLink.innerHTML = docLinkHtml;\n",
              "          element.appendChild(docLink);\n",
              "        }\n",
              "      </script>\n",
              "    </div>\n",
              "  </div>\n",
              "  "
            ]
          },
          "metadata": {},
          "execution_count": 251
        }
      ]
    },
    {
      "cell_type": "code",
      "source": [
        "list_1 = list_1.rename(columns={'Доход ':'Доход'})"
      ],
      "metadata": {
        "id": "S8FCmghGp-XV"
      },
      "execution_count": null,
      "outputs": []
    },
    {
      "cell_type": "markdown",
      "source": [
        "Преобразуем тип данных в колонке дата расслыки"
      ],
      "metadata": {
        "id": "P9bRFAs11i1O"
      }
    },
    {
      "cell_type": "code",
      "source": [
        "list_1['Дата рассылки'] = pd.to_datetime(list_1['Дата рассылки'])\n",
        "list_1['Дата рассылки'] = pd.to_datetime(list_1['Дата рассылки'], format='%Y-%m-%dT')"
      ],
      "metadata": {
        "id": "vYqnumwL1kXD"
      },
      "execution_count": null,
      "outputs": []
    },
    {
      "cell_type": "markdown",
      "source": [
        "Созданим колонку open_rate и рассчитаем метрику"
      ],
      "metadata": {
        "id": "D4Z5xd0wjdQy"
      }
    },
    {
      "cell_type": "code",
      "source": [
        "list_1['open_rate'] = list_1['Открытий'] / list_1['Отправлено писем']"
      ],
      "metadata": {
        "id": "ECLdyB7o12yB"
      },
      "execution_count": null,
      "outputs": []
    },
    {
      "cell_type": "markdown",
      "source": [
        "Объединим две талбицы, что бы рассчитать CR"
      ],
      "metadata": {
        "id": "b910vmgxD-0b"
      }
    },
    {
      "cell_type": "code",
      "source": [
        "list_3 = list_1.set_index('Тема письма').join(list_2.set_index('Тема письма'))\n",
        "list_3.head()"
      ],
      "metadata": {
        "colab": {
          "base_uri": "https://localhost:8080/",
          "height": 238
        },
        "id": "i3X4pvqBEaNM",
        "outputId": "6626ddd9-98c6-4e52-d22f-d45357feb55e"
      },
      "execution_count": null,
      "outputs": [
        {
          "output_type": "execute_result",
          "data": {
            "text/plain": [
              "              Сегмент Дата рассылки Время отправки  Отправлено писем  Отписки  \\\n",
              "Тема письма                                                                     \n",
              "Тема1        Сегмент1    2021-04-06       15:00:00            561114      440   \n",
              "Тема2        Сегмент1    2021-07-06       17:22:00            557128      476   \n",
              "Тема3        Сегмент1    2021-11-06       16:00:00            555455      504   \n",
              "Тема4        Сегмент2    2021-06-14       15:00:00            554383      509   \n",
              "Тема5        Сегмент1    2021-06-18       16:00:00            552486      435   \n",
              "\n",
              "             Доставлено  Открытий  Заказы    Доход  open_rate  Кликов  \n",
              "Тема письма                                                            \n",
              "Тема1            560873     70321      75  7613776   0.125324    2274  \n",
              "Тема2            556910     88384     209  6907996   0.158642    4549  \n",
              "Тема3            555214     70835      70  3558583   0.127526    1709  \n",
              "Тема4            554144     74813      75  6207904   0.134948    2136  \n",
              "Тема5            552281     71378      52  6905844   0.129194    1635  "
            ],
            "text/html": [
              "\n",
              "  <div id=\"df-6b54a4d8-6e7c-47ba-b59a-0c0df20d4662\">\n",
              "    <div class=\"colab-df-container\">\n",
              "      <div>\n",
              "<style scoped>\n",
              "    .dataframe tbody tr th:only-of-type {\n",
              "        vertical-align: middle;\n",
              "    }\n",
              "\n",
              "    .dataframe tbody tr th {\n",
              "        vertical-align: top;\n",
              "    }\n",
              "\n",
              "    .dataframe thead th {\n",
              "        text-align: right;\n",
              "    }\n",
              "</style>\n",
              "<table border=\"1\" class=\"dataframe\">\n",
              "  <thead>\n",
              "    <tr style=\"text-align: right;\">\n",
              "      <th></th>\n",
              "      <th>Сегмент</th>\n",
              "      <th>Дата рассылки</th>\n",
              "      <th>Время отправки</th>\n",
              "      <th>Отправлено писем</th>\n",
              "      <th>Отписки</th>\n",
              "      <th>Доставлено</th>\n",
              "      <th>Открытий</th>\n",
              "      <th>Заказы</th>\n",
              "      <th>Доход</th>\n",
              "      <th>open_rate</th>\n",
              "      <th>Кликов</th>\n",
              "    </tr>\n",
              "    <tr>\n",
              "      <th>Тема письма</th>\n",
              "      <th></th>\n",
              "      <th></th>\n",
              "      <th></th>\n",
              "      <th></th>\n",
              "      <th></th>\n",
              "      <th></th>\n",
              "      <th></th>\n",
              "      <th></th>\n",
              "      <th></th>\n",
              "      <th></th>\n",
              "      <th></th>\n",
              "    </tr>\n",
              "  </thead>\n",
              "  <tbody>\n",
              "    <tr>\n",
              "      <th>Тема1</th>\n",
              "      <td>Сегмент1</td>\n",
              "      <td>2021-04-06</td>\n",
              "      <td>15:00:00</td>\n",
              "      <td>561114</td>\n",
              "      <td>440</td>\n",
              "      <td>560873</td>\n",
              "      <td>70321</td>\n",
              "      <td>75</td>\n",
              "      <td>7613776</td>\n",
              "      <td>0.125324</td>\n",
              "      <td>2274</td>\n",
              "    </tr>\n",
              "    <tr>\n",
              "      <th>Тема2</th>\n",
              "      <td>Сегмент1</td>\n",
              "      <td>2021-07-06</td>\n",
              "      <td>17:22:00</td>\n",
              "      <td>557128</td>\n",
              "      <td>476</td>\n",
              "      <td>556910</td>\n",
              "      <td>88384</td>\n",
              "      <td>209</td>\n",
              "      <td>6907996</td>\n",
              "      <td>0.158642</td>\n",
              "      <td>4549</td>\n",
              "    </tr>\n",
              "    <tr>\n",
              "      <th>Тема3</th>\n",
              "      <td>Сегмент1</td>\n",
              "      <td>2021-11-06</td>\n",
              "      <td>16:00:00</td>\n",
              "      <td>555455</td>\n",
              "      <td>504</td>\n",
              "      <td>555214</td>\n",
              "      <td>70835</td>\n",
              "      <td>70</td>\n",
              "      <td>3558583</td>\n",
              "      <td>0.127526</td>\n",
              "      <td>1709</td>\n",
              "    </tr>\n",
              "    <tr>\n",
              "      <th>Тема4</th>\n",
              "      <td>Сегмент2</td>\n",
              "      <td>2021-06-14</td>\n",
              "      <td>15:00:00</td>\n",
              "      <td>554383</td>\n",
              "      <td>509</td>\n",
              "      <td>554144</td>\n",
              "      <td>74813</td>\n",
              "      <td>75</td>\n",
              "      <td>6207904</td>\n",
              "      <td>0.134948</td>\n",
              "      <td>2136</td>\n",
              "    </tr>\n",
              "    <tr>\n",
              "      <th>Тема5</th>\n",
              "      <td>Сегмент1</td>\n",
              "      <td>2021-06-18</td>\n",
              "      <td>16:00:00</td>\n",
              "      <td>552486</td>\n",
              "      <td>435</td>\n",
              "      <td>552281</td>\n",
              "      <td>71378</td>\n",
              "      <td>52</td>\n",
              "      <td>6905844</td>\n",
              "      <td>0.129194</td>\n",
              "      <td>1635</td>\n",
              "    </tr>\n",
              "  </tbody>\n",
              "</table>\n",
              "</div>\n",
              "      <button class=\"colab-df-convert\" onclick=\"convertToInteractive('df-6b54a4d8-6e7c-47ba-b59a-0c0df20d4662')\"\n",
              "              title=\"Convert this dataframe to an interactive table.\"\n",
              "              style=\"display:none;\">\n",
              "        \n",
              "  <svg xmlns=\"http://www.w3.org/2000/svg\" height=\"24px\"viewBox=\"0 0 24 24\"\n",
              "       width=\"24px\">\n",
              "    <path d=\"M0 0h24v24H0V0z\" fill=\"none\"/>\n",
              "    <path d=\"M18.56 5.44l.94 2.06.94-2.06 2.06-.94-2.06-.94-.94-2.06-.94 2.06-2.06.94zm-11 1L8.5 8.5l.94-2.06 2.06-.94-2.06-.94L8.5 2.5l-.94 2.06-2.06.94zm10 10l.94 2.06.94-2.06 2.06-.94-2.06-.94-.94-2.06-.94 2.06-2.06.94z\"/><path d=\"M17.41 7.96l-1.37-1.37c-.4-.4-.92-.59-1.43-.59-.52 0-1.04.2-1.43.59L10.3 9.45l-7.72 7.72c-.78.78-.78 2.05 0 2.83L4 21.41c.39.39.9.59 1.41.59.51 0 1.02-.2 1.41-.59l7.78-7.78 2.81-2.81c.8-.78.8-2.07 0-2.86zM5.41 20L4 18.59l7.72-7.72 1.47 1.35L5.41 20z\"/>\n",
              "  </svg>\n",
              "      </button>\n",
              "      \n",
              "  <style>\n",
              "    .colab-df-container {\n",
              "      display:flex;\n",
              "      flex-wrap:wrap;\n",
              "      gap: 12px;\n",
              "    }\n",
              "\n",
              "    .colab-df-convert {\n",
              "      background-color: #E8F0FE;\n",
              "      border: none;\n",
              "      border-radius: 50%;\n",
              "      cursor: pointer;\n",
              "      display: none;\n",
              "      fill: #1967D2;\n",
              "      height: 32px;\n",
              "      padding: 0 0 0 0;\n",
              "      width: 32px;\n",
              "    }\n",
              "\n",
              "    .colab-df-convert:hover {\n",
              "      background-color: #E2EBFA;\n",
              "      box-shadow: 0px 1px 2px rgba(60, 64, 67, 0.3), 0px 1px 3px 1px rgba(60, 64, 67, 0.15);\n",
              "      fill: #174EA6;\n",
              "    }\n",
              "\n",
              "    [theme=dark] .colab-df-convert {\n",
              "      background-color: #3B4455;\n",
              "      fill: #D2E3FC;\n",
              "    }\n",
              "\n",
              "    [theme=dark] .colab-df-convert:hover {\n",
              "      background-color: #434B5C;\n",
              "      box-shadow: 0px 1px 3px 1px rgba(0, 0, 0, 0.15);\n",
              "      filter: drop-shadow(0px 1px 2px rgba(0, 0, 0, 0.3));\n",
              "      fill: #FFFFFF;\n",
              "    }\n",
              "  </style>\n",
              "\n",
              "      <script>\n",
              "        const buttonEl =\n",
              "          document.querySelector('#df-6b54a4d8-6e7c-47ba-b59a-0c0df20d4662 button.colab-df-convert');\n",
              "        buttonEl.style.display =\n",
              "          google.colab.kernel.accessAllowed ? 'block' : 'none';\n",
              "\n",
              "        async function convertToInteractive(key) {\n",
              "          const element = document.querySelector('#df-6b54a4d8-6e7c-47ba-b59a-0c0df20d4662');\n",
              "          const dataTable =\n",
              "            await google.colab.kernel.invokeFunction('convertToInteractive',\n",
              "                                                     [key], {});\n",
              "          if (!dataTable) return;\n",
              "\n",
              "          const docLinkHtml = 'Like what you see? Visit the ' +\n",
              "            '<a target=\"_blank\" href=https://colab.research.google.com/notebooks/data_table.ipynb>data table notebook</a>'\n",
              "            + ' to learn more about interactive tables.';\n",
              "          element.innerHTML = '';\n",
              "          dataTable['output_type'] = 'display_data';\n",
              "          await google.colab.output.renderOutput(dataTable, element);\n",
              "          const docLink = document.createElement('div');\n",
              "          docLink.innerHTML = docLinkHtml;\n",
              "          element.appendChild(docLink);\n",
              "        }\n",
              "      </script>\n",
              "    </div>\n",
              "  </div>\n",
              "  "
            ]
          },
          "metadata": {},
          "execution_count": 255
        }
      ]
    },
    {
      "cell_type": "code",
      "source": [
        "list_3['CR'] = list_3['Заказы'] / list_3['Кликов']"
      ],
      "metadata": {
        "id": "3YjLcCxoFwjJ"
      },
      "execution_count": null,
      "outputs": []
    },
    {
      "cell_type": "code",
      "source": [
        "list_3['AOV'] = list_3['Доход'] / list_3['Заказы']"
      ],
      "metadata": {
        "id": "5JHemroGISnF"
      },
      "execution_count": null,
      "outputs": []
    },
    {
      "cell_type": "code",
      "source": [
        "list_3.head()"
      ],
      "metadata": {
        "colab": {
          "base_uri": "https://localhost:8080/",
          "height": 238
        },
        "id": "gzoPbKPzIgPJ",
        "outputId": "3e8f6247-68ae-46f2-838d-e6ce23b364d5"
      },
      "execution_count": null,
      "outputs": [
        {
          "output_type": "execute_result",
          "data": {
            "text/plain": [
              "              Сегмент Дата рассылки Время отправки  Отправлено писем  Отписки  \\\n",
              "Тема письма                                                                     \n",
              "Тема1        Сегмент1    2021-04-06       15:00:00            561114      440   \n",
              "Тема2        Сегмент1    2021-07-06       17:22:00            557128      476   \n",
              "Тема3        Сегмент1    2021-11-06       16:00:00            555455      504   \n",
              "Тема4        Сегмент2    2021-06-14       15:00:00            554383      509   \n",
              "Тема5        Сегмент1    2021-06-18       16:00:00            552486      435   \n",
              "\n",
              "             Доставлено  Открытий  Заказы    Доход  open_rate  Кликов  \\\n",
              "Тема письма                                                             \n",
              "Тема1            560873     70321      75  7613776   0.125324    2274   \n",
              "Тема2            556910     88384     209  6907996   0.158642    4549   \n",
              "Тема3            555214     70835      70  3558583   0.127526    1709   \n",
              "Тема4            554144     74813      75  6207904   0.134948    2136   \n",
              "Тема5            552281     71378      52  6905844   0.129194    1635   \n",
              "\n",
              "                   CR            AOV  \n",
              "Тема письма                           \n",
              "Тема1        0.032982  101517.013333  \n",
              "Тема2        0.045944   33052.612440  \n",
              "Тема3        0.040960   50836.900000  \n",
              "Тема4        0.035112   82772.053333  \n",
              "Тема5        0.031804  132804.692308  "
            ],
            "text/html": [
              "\n",
              "  <div id=\"df-91e3a9c1-f3f9-4dba-96e9-a428555b4e03\">\n",
              "    <div class=\"colab-df-container\">\n",
              "      <div>\n",
              "<style scoped>\n",
              "    .dataframe tbody tr th:only-of-type {\n",
              "        vertical-align: middle;\n",
              "    }\n",
              "\n",
              "    .dataframe tbody tr th {\n",
              "        vertical-align: top;\n",
              "    }\n",
              "\n",
              "    .dataframe thead th {\n",
              "        text-align: right;\n",
              "    }\n",
              "</style>\n",
              "<table border=\"1\" class=\"dataframe\">\n",
              "  <thead>\n",
              "    <tr style=\"text-align: right;\">\n",
              "      <th></th>\n",
              "      <th>Сегмент</th>\n",
              "      <th>Дата рассылки</th>\n",
              "      <th>Время отправки</th>\n",
              "      <th>Отправлено писем</th>\n",
              "      <th>Отписки</th>\n",
              "      <th>Доставлено</th>\n",
              "      <th>Открытий</th>\n",
              "      <th>Заказы</th>\n",
              "      <th>Доход</th>\n",
              "      <th>open_rate</th>\n",
              "      <th>Кликов</th>\n",
              "      <th>CR</th>\n",
              "      <th>AOV</th>\n",
              "    </tr>\n",
              "    <tr>\n",
              "      <th>Тема письма</th>\n",
              "      <th></th>\n",
              "      <th></th>\n",
              "      <th></th>\n",
              "      <th></th>\n",
              "      <th></th>\n",
              "      <th></th>\n",
              "      <th></th>\n",
              "      <th></th>\n",
              "      <th></th>\n",
              "      <th></th>\n",
              "      <th></th>\n",
              "      <th></th>\n",
              "      <th></th>\n",
              "    </tr>\n",
              "  </thead>\n",
              "  <tbody>\n",
              "    <tr>\n",
              "      <th>Тема1</th>\n",
              "      <td>Сегмент1</td>\n",
              "      <td>2021-04-06</td>\n",
              "      <td>15:00:00</td>\n",
              "      <td>561114</td>\n",
              "      <td>440</td>\n",
              "      <td>560873</td>\n",
              "      <td>70321</td>\n",
              "      <td>75</td>\n",
              "      <td>7613776</td>\n",
              "      <td>0.125324</td>\n",
              "      <td>2274</td>\n",
              "      <td>0.032982</td>\n",
              "      <td>101517.013333</td>\n",
              "    </tr>\n",
              "    <tr>\n",
              "      <th>Тема2</th>\n",
              "      <td>Сегмент1</td>\n",
              "      <td>2021-07-06</td>\n",
              "      <td>17:22:00</td>\n",
              "      <td>557128</td>\n",
              "      <td>476</td>\n",
              "      <td>556910</td>\n",
              "      <td>88384</td>\n",
              "      <td>209</td>\n",
              "      <td>6907996</td>\n",
              "      <td>0.158642</td>\n",
              "      <td>4549</td>\n",
              "      <td>0.045944</td>\n",
              "      <td>33052.612440</td>\n",
              "    </tr>\n",
              "    <tr>\n",
              "      <th>Тема3</th>\n",
              "      <td>Сегмент1</td>\n",
              "      <td>2021-11-06</td>\n",
              "      <td>16:00:00</td>\n",
              "      <td>555455</td>\n",
              "      <td>504</td>\n",
              "      <td>555214</td>\n",
              "      <td>70835</td>\n",
              "      <td>70</td>\n",
              "      <td>3558583</td>\n",
              "      <td>0.127526</td>\n",
              "      <td>1709</td>\n",
              "      <td>0.040960</td>\n",
              "      <td>50836.900000</td>\n",
              "    </tr>\n",
              "    <tr>\n",
              "      <th>Тема4</th>\n",
              "      <td>Сегмент2</td>\n",
              "      <td>2021-06-14</td>\n",
              "      <td>15:00:00</td>\n",
              "      <td>554383</td>\n",
              "      <td>509</td>\n",
              "      <td>554144</td>\n",
              "      <td>74813</td>\n",
              "      <td>75</td>\n",
              "      <td>6207904</td>\n",
              "      <td>0.134948</td>\n",
              "      <td>2136</td>\n",
              "      <td>0.035112</td>\n",
              "      <td>82772.053333</td>\n",
              "    </tr>\n",
              "    <tr>\n",
              "      <th>Тема5</th>\n",
              "      <td>Сегмент1</td>\n",
              "      <td>2021-06-18</td>\n",
              "      <td>16:00:00</td>\n",
              "      <td>552486</td>\n",
              "      <td>435</td>\n",
              "      <td>552281</td>\n",
              "      <td>71378</td>\n",
              "      <td>52</td>\n",
              "      <td>6905844</td>\n",
              "      <td>0.129194</td>\n",
              "      <td>1635</td>\n",
              "      <td>0.031804</td>\n",
              "      <td>132804.692308</td>\n",
              "    </tr>\n",
              "  </tbody>\n",
              "</table>\n",
              "</div>\n",
              "      <button class=\"colab-df-convert\" onclick=\"convertToInteractive('df-91e3a9c1-f3f9-4dba-96e9-a428555b4e03')\"\n",
              "              title=\"Convert this dataframe to an interactive table.\"\n",
              "              style=\"display:none;\">\n",
              "        \n",
              "  <svg xmlns=\"http://www.w3.org/2000/svg\" height=\"24px\"viewBox=\"0 0 24 24\"\n",
              "       width=\"24px\">\n",
              "    <path d=\"M0 0h24v24H0V0z\" fill=\"none\"/>\n",
              "    <path d=\"M18.56 5.44l.94 2.06.94-2.06 2.06-.94-2.06-.94-.94-2.06-.94 2.06-2.06.94zm-11 1L8.5 8.5l.94-2.06 2.06-.94-2.06-.94L8.5 2.5l-.94 2.06-2.06.94zm10 10l.94 2.06.94-2.06 2.06-.94-2.06-.94-.94-2.06-.94 2.06-2.06.94z\"/><path d=\"M17.41 7.96l-1.37-1.37c-.4-.4-.92-.59-1.43-.59-.52 0-1.04.2-1.43.59L10.3 9.45l-7.72 7.72c-.78.78-.78 2.05 0 2.83L4 21.41c.39.39.9.59 1.41.59.51 0 1.02-.2 1.41-.59l7.78-7.78 2.81-2.81c.8-.78.8-2.07 0-2.86zM5.41 20L4 18.59l7.72-7.72 1.47 1.35L5.41 20z\"/>\n",
              "  </svg>\n",
              "      </button>\n",
              "      \n",
              "  <style>\n",
              "    .colab-df-container {\n",
              "      display:flex;\n",
              "      flex-wrap:wrap;\n",
              "      gap: 12px;\n",
              "    }\n",
              "\n",
              "    .colab-df-convert {\n",
              "      background-color: #E8F0FE;\n",
              "      border: none;\n",
              "      border-radius: 50%;\n",
              "      cursor: pointer;\n",
              "      display: none;\n",
              "      fill: #1967D2;\n",
              "      height: 32px;\n",
              "      padding: 0 0 0 0;\n",
              "      width: 32px;\n",
              "    }\n",
              "\n",
              "    .colab-df-convert:hover {\n",
              "      background-color: #E2EBFA;\n",
              "      box-shadow: 0px 1px 2px rgba(60, 64, 67, 0.3), 0px 1px 3px 1px rgba(60, 64, 67, 0.15);\n",
              "      fill: #174EA6;\n",
              "    }\n",
              "\n",
              "    [theme=dark] .colab-df-convert {\n",
              "      background-color: #3B4455;\n",
              "      fill: #D2E3FC;\n",
              "    }\n",
              "\n",
              "    [theme=dark] .colab-df-convert:hover {\n",
              "      background-color: #434B5C;\n",
              "      box-shadow: 0px 1px 3px 1px rgba(0, 0, 0, 0.15);\n",
              "      filter: drop-shadow(0px 1px 2px rgba(0, 0, 0, 0.3));\n",
              "      fill: #FFFFFF;\n",
              "    }\n",
              "  </style>\n",
              "\n",
              "      <script>\n",
              "        const buttonEl =\n",
              "          document.querySelector('#df-91e3a9c1-f3f9-4dba-96e9-a428555b4e03 button.colab-df-convert');\n",
              "        buttonEl.style.display =\n",
              "          google.colab.kernel.accessAllowed ? 'block' : 'none';\n",
              "\n",
              "        async function convertToInteractive(key) {\n",
              "          const element = document.querySelector('#df-91e3a9c1-f3f9-4dba-96e9-a428555b4e03');\n",
              "          const dataTable =\n",
              "            await google.colab.kernel.invokeFunction('convertToInteractive',\n",
              "                                                     [key], {});\n",
              "          if (!dataTable) return;\n",
              "\n",
              "          const docLinkHtml = 'Like what you see? Visit the ' +\n",
              "            '<a target=\"_blank\" href=https://colab.research.google.com/notebooks/data_table.ipynb>data table notebook</a>'\n",
              "            + ' to learn more about interactive tables.';\n",
              "          element.innerHTML = '';\n",
              "          dataTable['output_type'] = 'display_data';\n",
              "          await google.colab.output.renderOutput(dataTable, element);\n",
              "          const docLink = document.createElement('div');\n",
              "          docLink.innerHTML = docLinkHtml;\n",
              "          element.appendChild(docLink);\n",
              "        }\n",
              "      </script>\n",
              "    </div>\n",
              "  </div>\n",
              "  "
            ]
          },
          "metadata": {},
          "execution_count": 258
        }
      ]
    },
    {
      "cell_type": "markdown",
      "source": [
        "Созданим столбцы с названием месяца и днем недели."
      ],
      "metadata": {
        "id": "5YkWYTWJoslm"
      }
    },
    {
      "cell_type": "code",
      "source": [
        "list_3['month'] = list_3['Дата рассылки'].dt.month_name()\n",
        "list_3['day'] = list_3['Дата рассылки'].dt.day_name()"
      ],
      "metadata": {
        "id": "9NSntYSVXGog"
      },
      "execution_count": null,
      "outputs": []
    },
    {
      "cell_type": "code",
      "source": [
        "list_3.head()"
      ],
      "metadata": {
        "colab": {
          "base_uri": "https://localhost:8080/",
          "height": 316
        },
        "id": "2IVxkrCWYdHi",
        "outputId": "0788c8c6-6335-4cfa-9027-d5b534b5143a"
      },
      "execution_count": null,
      "outputs": [
        {
          "output_type": "execute_result",
          "data": {
            "text/plain": [
              "              Сегмент Дата рассылки Время отправки  Отправлено писем  Отписки  \\\n",
              "Тема письма                                                                     \n",
              "Тема1        Сегмент1    2021-04-06       15:00:00            561114      440   \n",
              "Тема2        Сегмент1    2021-07-06       17:22:00            557128      476   \n",
              "Тема3        Сегмент1    2021-11-06       16:00:00            555455      504   \n",
              "Тема4        Сегмент2    2021-06-14       15:00:00            554383      509   \n",
              "Тема5        Сегмент1    2021-06-18       16:00:00            552486      435   \n",
              "\n",
              "             Доставлено  Открытий  Заказы    Доход  open_rate  Кликов  \\\n",
              "Тема письма                                                             \n",
              "Тема1            560873     70321      75  7613776   0.125324    2274   \n",
              "Тема2            556910     88384     209  6907996   0.158642    4549   \n",
              "Тема3            555214     70835      70  3558583   0.127526    1709   \n",
              "Тема4            554144     74813      75  6207904   0.134948    2136   \n",
              "Тема5            552281     71378      52  6905844   0.129194    1635   \n",
              "\n",
              "                   CR            AOV     month       day  \n",
              "Тема письма                                               \n",
              "Тема1        0.032982  101517.013333     April   Tuesday  \n",
              "Тема2        0.045944   33052.612440      July   Tuesday  \n",
              "Тема3        0.040960   50836.900000  November  Saturday  \n",
              "Тема4        0.035112   82772.053333      June    Monday  \n",
              "Тема5        0.031804  132804.692308      June    Friday  "
            ],
            "text/html": [
              "\n",
              "  <div id=\"df-9160d0d0-bf1e-46ab-9888-d2f6019bd7b6\">\n",
              "    <div class=\"colab-df-container\">\n",
              "      <div>\n",
              "<style scoped>\n",
              "    .dataframe tbody tr th:only-of-type {\n",
              "        vertical-align: middle;\n",
              "    }\n",
              "\n",
              "    .dataframe tbody tr th {\n",
              "        vertical-align: top;\n",
              "    }\n",
              "\n",
              "    .dataframe thead th {\n",
              "        text-align: right;\n",
              "    }\n",
              "</style>\n",
              "<table border=\"1\" class=\"dataframe\">\n",
              "  <thead>\n",
              "    <tr style=\"text-align: right;\">\n",
              "      <th></th>\n",
              "      <th>Сегмент</th>\n",
              "      <th>Дата рассылки</th>\n",
              "      <th>Время отправки</th>\n",
              "      <th>Отправлено писем</th>\n",
              "      <th>Отписки</th>\n",
              "      <th>Доставлено</th>\n",
              "      <th>Открытий</th>\n",
              "      <th>Заказы</th>\n",
              "      <th>Доход</th>\n",
              "      <th>open_rate</th>\n",
              "      <th>Кликов</th>\n",
              "      <th>CR</th>\n",
              "      <th>AOV</th>\n",
              "      <th>month</th>\n",
              "      <th>day</th>\n",
              "    </tr>\n",
              "    <tr>\n",
              "      <th>Тема письма</th>\n",
              "      <th></th>\n",
              "      <th></th>\n",
              "      <th></th>\n",
              "      <th></th>\n",
              "      <th></th>\n",
              "      <th></th>\n",
              "      <th></th>\n",
              "      <th></th>\n",
              "      <th></th>\n",
              "      <th></th>\n",
              "      <th></th>\n",
              "      <th></th>\n",
              "      <th></th>\n",
              "      <th></th>\n",
              "      <th></th>\n",
              "    </tr>\n",
              "  </thead>\n",
              "  <tbody>\n",
              "    <tr>\n",
              "      <th>Тема1</th>\n",
              "      <td>Сегмент1</td>\n",
              "      <td>2021-04-06</td>\n",
              "      <td>15:00:00</td>\n",
              "      <td>561114</td>\n",
              "      <td>440</td>\n",
              "      <td>560873</td>\n",
              "      <td>70321</td>\n",
              "      <td>75</td>\n",
              "      <td>7613776</td>\n",
              "      <td>0.125324</td>\n",
              "      <td>2274</td>\n",
              "      <td>0.032982</td>\n",
              "      <td>101517.013333</td>\n",
              "      <td>April</td>\n",
              "      <td>Tuesday</td>\n",
              "    </tr>\n",
              "    <tr>\n",
              "      <th>Тема2</th>\n",
              "      <td>Сегмент1</td>\n",
              "      <td>2021-07-06</td>\n",
              "      <td>17:22:00</td>\n",
              "      <td>557128</td>\n",
              "      <td>476</td>\n",
              "      <td>556910</td>\n",
              "      <td>88384</td>\n",
              "      <td>209</td>\n",
              "      <td>6907996</td>\n",
              "      <td>0.158642</td>\n",
              "      <td>4549</td>\n",
              "      <td>0.045944</td>\n",
              "      <td>33052.612440</td>\n",
              "      <td>July</td>\n",
              "      <td>Tuesday</td>\n",
              "    </tr>\n",
              "    <tr>\n",
              "      <th>Тема3</th>\n",
              "      <td>Сегмент1</td>\n",
              "      <td>2021-11-06</td>\n",
              "      <td>16:00:00</td>\n",
              "      <td>555455</td>\n",
              "      <td>504</td>\n",
              "      <td>555214</td>\n",
              "      <td>70835</td>\n",
              "      <td>70</td>\n",
              "      <td>3558583</td>\n",
              "      <td>0.127526</td>\n",
              "      <td>1709</td>\n",
              "      <td>0.040960</td>\n",
              "      <td>50836.900000</td>\n",
              "      <td>November</td>\n",
              "      <td>Saturday</td>\n",
              "    </tr>\n",
              "    <tr>\n",
              "      <th>Тема4</th>\n",
              "      <td>Сегмент2</td>\n",
              "      <td>2021-06-14</td>\n",
              "      <td>15:00:00</td>\n",
              "      <td>554383</td>\n",
              "      <td>509</td>\n",
              "      <td>554144</td>\n",
              "      <td>74813</td>\n",
              "      <td>75</td>\n",
              "      <td>6207904</td>\n",
              "      <td>0.134948</td>\n",
              "      <td>2136</td>\n",
              "      <td>0.035112</td>\n",
              "      <td>82772.053333</td>\n",
              "      <td>June</td>\n",
              "      <td>Monday</td>\n",
              "    </tr>\n",
              "    <tr>\n",
              "      <th>Тема5</th>\n",
              "      <td>Сегмент1</td>\n",
              "      <td>2021-06-18</td>\n",
              "      <td>16:00:00</td>\n",
              "      <td>552486</td>\n",
              "      <td>435</td>\n",
              "      <td>552281</td>\n",
              "      <td>71378</td>\n",
              "      <td>52</td>\n",
              "      <td>6905844</td>\n",
              "      <td>0.129194</td>\n",
              "      <td>1635</td>\n",
              "      <td>0.031804</td>\n",
              "      <td>132804.692308</td>\n",
              "      <td>June</td>\n",
              "      <td>Friday</td>\n",
              "    </tr>\n",
              "  </tbody>\n",
              "</table>\n",
              "</div>\n",
              "      <button class=\"colab-df-convert\" onclick=\"convertToInteractive('df-9160d0d0-bf1e-46ab-9888-d2f6019bd7b6')\"\n",
              "              title=\"Convert this dataframe to an interactive table.\"\n",
              "              style=\"display:none;\">\n",
              "        \n",
              "  <svg xmlns=\"http://www.w3.org/2000/svg\" height=\"24px\"viewBox=\"0 0 24 24\"\n",
              "       width=\"24px\">\n",
              "    <path d=\"M0 0h24v24H0V0z\" fill=\"none\"/>\n",
              "    <path d=\"M18.56 5.44l.94 2.06.94-2.06 2.06-.94-2.06-.94-.94-2.06-.94 2.06-2.06.94zm-11 1L8.5 8.5l.94-2.06 2.06-.94-2.06-.94L8.5 2.5l-.94 2.06-2.06.94zm10 10l.94 2.06.94-2.06 2.06-.94-2.06-.94-.94-2.06-.94 2.06-2.06.94z\"/><path d=\"M17.41 7.96l-1.37-1.37c-.4-.4-.92-.59-1.43-.59-.52 0-1.04.2-1.43.59L10.3 9.45l-7.72 7.72c-.78.78-.78 2.05 0 2.83L4 21.41c.39.39.9.59 1.41.59.51 0 1.02-.2 1.41-.59l7.78-7.78 2.81-2.81c.8-.78.8-2.07 0-2.86zM5.41 20L4 18.59l7.72-7.72 1.47 1.35L5.41 20z\"/>\n",
              "  </svg>\n",
              "      </button>\n",
              "      \n",
              "  <style>\n",
              "    .colab-df-container {\n",
              "      display:flex;\n",
              "      flex-wrap:wrap;\n",
              "      gap: 12px;\n",
              "    }\n",
              "\n",
              "    .colab-df-convert {\n",
              "      background-color: #E8F0FE;\n",
              "      border: none;\n",
              "      border-radius: 50%;\n",
              "      cursor: pointer;\n",
              "      display: none;\n",
              "      fill: #1967D2;\n",
              "      height: 32px;\n",
              "      padding: 0 0 0 0;\n",
              "      width: 32px;\n",
              "    }\n",
              "\n",
              "    .colab-df-convert:hover {\n",
              "      background-color: #E2EBFA;\n",
              "      box-shadow: 0px 1px 2px rgba(60, 64, 67, 0.3), 0px 1px 3px 1px rgba(60, 64, 67, 0.15);\n",
              "      fill: #174EA6;\n",
              "    }\n",
              "\n",
              "    [theme=dark] .colab-df-convert {\n",
              "      background-color: #3B4455;\n",
              "      fill: #D2E3FC;\n",
              "    }\n",
              "\n",
              "    [theme=dark] .colab-df-convert:hover {\n",
              "      background-color: #434B5C;\n",
              "      box-shadow: 0px 1px 3px 1px rgba(0, 0, 0, 0.15);\n",
              "      filter: drop-shadow(0px 1px 2px rgba(0, 0, 0, 0.3));\n",
              "      fill: #FFFFFF;\n",
              "    }\n",
              "  </style>\n",
              "\n",
              "      <script>\n",
              "        const buttonEl =\n",
              "          document.querySelector('#df-9160d0d0-bf1e-46ab-9888-d2f6019bd7b6 button.colab-df-convert');\n",
              "        buttonEl.style.display =\n",
              "          google.colab.kernel.accessAllowed ? 'block' : 'none';\n",
              "\n",
              "        async function convertToInteractive(key) {\n",
              "          const element = document.querySelector('#df-9160d0d0-bf1e-46ab-9888-d2f6019bd7b6');\n",
              "          const dataTable =\n",
              "            await google.colab.kernel.invokeFunction('convertToInteractive',\n",
              "                                                     [key], {});\n",
              "          if (!dataTable) return;\n",
              "\n",
              "          const docLinkHtml = 'Like what you see? Visit the ' +\n",
              "            '<a target=\"_blank\" href=https://colab.research.google.com/notebooks/data_table.ipynb>data table notebook</a>'\n",
              "            + ' to learn more about interactive tables.';\n",
              "          element.innerHTML = '';\n",
              "          dataTable['output_type'] = 'display_data';\n",
              "          await google.colab.output.renderOutput(dataTable, element);\n",
              "          const docLink = document.createElement('div');\n",
              "          docLink.innerHTML = docLinkHtml;\n",
              "          element.appendChild(docLink);\n",
              "        }\n",
              "      </script>\n",
              "    </div>\n",
              "  </div>\n",
              "  "
            ]
          },
          "metadata": {},
          "execution_count": 260
        }
      ]
    },
    {
      "cell_type": "code",
      "source": [
        "data = list_3[['Дата рассылки', 'open_rate', 'Кликов', 'AOV', 'CR', 'month', 'day', 'Отписки', 'Доход']]"
      ],
      "metadata": {
        "id": "ELcisV837wzN"
      },
      "execution_count": null,
      "outputs": []
    },
    {
      "cell_type": "markdown",
      "source": [
        "**Топ-5 лучших тем по open_rate за весь промежуток времени**"
      ],
      "metadata": {
        "id": "iF3W5i9qS5sQ"
      }
    },
    {
      "cell_type": "code",
      "source": [
        "top_5 = list_1[['open_rate', 'Тема письма']]"
      ],
      "metadata": {
        "id": "7RO7BL9xS5NE"
      },
      "execution_count": null,
      "outputs": []
    },
    {
      "cell_type": "code",
      "source": [
        "top_5 = top_5.sort_values(by='open_rate', ascending=False)\n",
        "top_5.head()"
      ],
      "metadata": {
        "colab": {
          "base_uri": "https://localhost:8080/",
          "height": 206
        },
        "id": "Gcai4yxYTvy8",
        "outputId": "9a796621-a2ec-4959-ea2b-0d6c7a1d98f5"
      },
      "execution_count": null,
      "outputs": [
        {
          "output_type": "execute_result",
          "data": {
            "text/plain": [
              "    open_rate Тема письма\n",
              "40   0.179085      Тема41\n",
              "35   0.171045      Тема36\n",
              "39   0.170508      Тема40\n",
              "37   0.169857      Тема38\n",
              "38   0.169738      Тема39"
            ],
            "text/html": [
              "\n",
              "  <div id=\"df-fb4dee63-3cf3-4128-9351-bc44e286122a\">\n",
              "    <div class=\"colab-df-container\">\n",
              "      <div>\n",
              "<style scoped>\n",
              "    .dataframe tbody tr th:only-of-type {\n",
              "        vertical-align: middle;\n",
              "    }\n",
              "\n",
              "    .dataframe tbody tr th {\n",
              "        vertical-align: top;\n",
              "    }\n",
              "\n",
              "    .dataframe thead th {\n",
              "        text-align: right;\n",
              "    }\n",
              "</style>\n",
              "<table border=\"1\" class=\"dataframe\">\n",
              "  <thead>\n",
              "    <tr style=\"text-align: right;\">\n",
              "      <th></th>\n",
              "      <th>open_rate</th>\n",
              "      <th>Тема письма</th>\n",
              "    </tr>\n",
              "  </thead>\n",
              "  <tbody>\n",
              "    <tr>\n",
              "      <th>40</th>\n",
              "      <td>0.179085</td>\n",
              "      <td>Тема41</td>\n",
              "    </tr>\n",
              "    <tr>\n",
              "      <th>35</th>\n",
              "      <td>0.171045</td>\n",
              "      <td>Тема36</td>\n",
              "    </tr>\n",
              "    <tr>\n",
              "      <th>39</th>\n",
              "      <td>0.170508</td>\n",
              "      <td>Тема40</td>\n",
              "    </tr>\n",
              "    <tr>\n",
              "      <th>37</th>\n",
              "      <td>0.169857</td>\n",
              "      <td>Тема38</td>\n",
              "    </tr>\n",
              "    <tr>\n",
              "      <th>38</th>\n",
              "      <td>0.169738</td>\n",
              "      <td>Тема39</td>\n",
              "    </tr>\n",
              "  </tbody>\n",
              "</table>\n",
              "</div>\n",
              "      <button class=\"colab-df-convert\" onclick=\"convertToInteractive('df-fb4dee63-3cf3-4128-9351-bc44e286122a')\"\n",
              "              title=\"Convert this dataframe to an interactive table.\"\n",
              "              style=\"display:none;\">\n",
              "        \n",
              "  <svg xmlns=\"http://www.w3.org/2000/svg\" height=\"24px\"viewBox=\"0 0 24 24\"\n",
              "       width=\"24px\">\n",
              "    <path d=\"M0 0h24v24H0V0z\" fill=\"none\"/>\n",
              "    <path d=\"M18.56 5.44l.94 2.06.94-2.06 2.06-.94-2.06-.94-.94-2.06-.94 2.06-2.06.94zm-11 1L8.5 8.5l.94-2.06 2.06-.94-2.06-.94L8.5 2.5l-.94 2.06-2.06.94zm10 10l.94 2.06.94-2.06 2.06-.94-2.06-.94-.94-2.06-.94 2.06-2.06.94z\"/><path d=\"M17.41 7.96l-1.37-1.37c-.4-.4-.92-.59-1.43-.59-.52 0-1.04.2-1.43.59L10.3 9.45l-7.72 7.72c-.78.78-.78 2.05 0 2.83L4 21.41c.39.39.9.59 1.41.59.51 0 1.02-.2 1.41-.59l7.78-7.78 2.81-2.81c.8-.78.8-2.07 0-2.86zM5.41 20L4 18.59l7.72-7.72 1.47 1.35L5.41 20z\"/>\n",
              "  </svg>\n",
              "      </button>\n",
              "      \n",
              "  <style>\n",
              "    .colab-df-container {\n",
              "      display:flex;\n",
              "      flex-wrap:wrap;\n",
              "      gap: 12px;\n",
              "    }\n",
              "\n",
              "    .colab-df-convert {\n",
              "      background-color: #E8F0FE;\n",
              "      border: none;\n",
              "      border-radius: 50%;\n",
              "      cursor: pointer;\n",
              "      display: none;\n",
              "      fill: #1967D2;\n",
              "      height: 32px;\n",
              "      padding: 0 0 0 0;\n",
              "      width: 32px;\n",
              "    }\n",
              "\n",
              "    .colab-df-convert:hover {\n",
              "      background-color: #E2EBFA;\n",
              "      box-shadow: 0px 1px 2px rgba(60, 64, 67, 0.3), 0px 1px 3px 1px rgba(60, 64, 67, 0.15);\n",
              "      fill: #174EA6;\n",
              "    }\n",
              "\n",
              "    [theme=dark] .colab-df-convert {\n",
              "      background-color: #3B4455;\n",
              "      fill: #D2E3FC;\n",
              "    }\n",
              "\n",
              "    [theme=dark] .colab-df-convert:hover {\n",
              "      background-color: #434B5C;\n",
              "      box-shadow: 0px 1px 3px 1px rgba(0, 0, 0, 0.15);\n",
              "      filter: drop-shadow(0px 1px 2px rgba(0, 0, 0, 0.3));\n",
              "      fill: #FFFFFF;\n",
              "    }\n",
              "  </style>\n",
              "\n",
              "      <script>\n",
              "        const buttonEl =\n",
              "          document.querySelector('#df-fb4dee63-3cf3-4128-9351-bc44e286122a button.colab-df-convert');\n",
              "        buttonEl.style.display =\n",
              "          google.colab.kernel.accessAllowed ? 'block' : 'none';\n",
              "\n",
              "        async function convertToInteractive(key) {\n",
              "          const element = document.querySelector('#df-fb4dee63-3cf3-4128-9351-bc44e286122a');\n",
              "          const dataTable =\n",
              "            await google.colab.kernel.invokeFunction('convertToInteractive',\n",
              "                                                     [key], {});\n",
              "          if (!dataTable) return;\n",
              "\n",
              "          const docLinkHtml = 'Like what you see? Visit the ' +\n",
              "            '<a target=\"_blank\" href=https://colab.research.google.com/notebooks/data_table.ipynb>data table notebook</a>'\n",
              "            + ' to learn more about interactive tables.';\n",
              "          element.innerHTML = '';\n",
              "          dataTable['output_type'] = 'display_data';\n",
              "          await google.colab.output.renderOutput(dataTable, element);\n",
              "          const docLink = document.createElement('div');\n",
              "          docLink.innerHTML = docLinkHtml;\n",
              "          element.appendChild(docLink);\n",
              "        }\n",
              "      </script>\n",
              "    </div>\n",
              "  </div>\n",
              "  "
            ]
          },
          "metadata": {},
          "execution_count": 263
        }
      ]
    },
    {
      "cell_type": "code",
      "source": [
        "sns.barplot(data=top_5.head(), x='Тема письма', y='open_rate');"
      ],
      "metadata": {
        "colab": {
          "base_uri": "https://localhost:8080/",
          "height": 279
        },
        "id": "y0y7BabgU52G",
        "outputId": "41360c6a-ed39-4966-eaa9-df7cbcecd03c"
      },
      "execution_count": null,
      "outputs": [
        {
          "output_type": "display_data",
          "data": {
            "text/plain": [
              "<Figure size 432x288 with 1 Axes>"
            ],
            "image/png": "[encoded data removed]"
          },
          "metadata": {
            "needs_background": "light"
          }
        }
      ]
    },
    {
      "cell_type": "markdown",
      "source": [
        "В том 5 тем письма по open_rate вошли темы 41, 36, 40, 38, 39. Так же можно посмотреть топ-10. "
      ],
      "metadata": {
        "id": "ARtjifMXUVfz"
      }
    },
    {
      "cell_type": "markdown",
      "source": [
        "**Динамика open rate, CR, AOV**\n",
        "\n",
        "\n"
      ],
      "metadata": {
        "id": "XFOSpZrnCz_D"
      }
    },
    {
      "cell_type": "code",
      "source": [
        "df1 = data.groupby(by='month').mean().sort_values(by='month', ascending=False)"
      ],
      "metadata": {
        "id": "_7ErHaCx9qgw"
      },
      "execution_count": null,
      "outputs": []
    },
    {
      "cell_type": "code",
      "source": [
        "#fig, axs = plt.subplots(nrows= 1 , ncols= 3 )\n",
        "metric = ['open_rate','CR', 'AOV']\n",
        "for i in metric:\n",
        "  fig = plt.figure(figsize=(10, 5))\n",
        "  sns.lineplot(data=df1, x=df1.index, y =i).set(title= f'Изменение {i} в течение года')\n",
        "  sns.barplot(data=df1, x=df1.index, y = i);\n",
        "  plt.xticks(rotation=65, horizontalalignment='right');"
      ],
      "metadata": {
        "colab": {
          "base_uri": "https://localhost:8080/",
          "height": 1000
        },
        "id": "dTwvjICxANxo",
        "outputId": "948cf3de-9a3a-4ba1-f7bf-23c3f1a3882f"
      },
      "execution_count": null,
      "outputs": [
        {
          "output_type": "display_data",
          "data": {
            "text/plain": [
              "<Figure size 720x360 with 1 Axes>"
            ],
            "image/png": "[encoded data removed]"
          },
          "metadata": {
            "needs_background": "light"
          }
        },
        {
          "output_type": "display_data",
          "data": {
            "text/plain": [
              "<Figure size 720x360 with 1 Axes>"
            ],
            "image/png": "[encoded data removed]"
          },
          "metadata": {
            "needs_background": "light"
          }
        },
        {
          "output_type": "display_data",
          "data": {
            "text/plain": [
              "<Figure size 720x360 with 1 Axes>"
            ],
            "image/png": "[encoded data removed]"
          },
          "metadata": {
            "needs_background": "light"
          }
        }
      ]
    },
    {
      "cell_type": "markdown",
      "source": [
        "Выводы из графиков:\n",
        "\n",
        "open_rate: \n",
        "1. в течение всего года open_rate находится приблизительно на уровне 0.14-0.16.\n",
        "2. Самый высокий open_rate достигнут в октябре месяце.\n",
        "\n",
        "CR:\n",
        "1. Наиболее высокое значение CR в мае и январе\n",
        "2. Наименьшее в апреле и октябре\n",
        "\n",
        "AOV:\n",
        "1. Самый высокий показатель в апреле\n",
        "2. Самый низкий в мае и июле.\n",
        "\n",
        "Интересно отметить, что CR минимальный в апреле, а AOV в этом месяце максимально, следовательно в апреле месяце был совершен заказ на крупную сумму. "
      ],
      "metadata": {
        "id": "fez05iHVrGM1"
      }
    },
    {
      "cell_type": "markdown",
      "source": [
        "Что бы посмотреть статистику метрик в течение кажого месяца напишем функцию, которая будет принимать в качестве аргументов месяц и метрику и возвращать график описывающий динамику за месяц"
      ],
      "metadata": {
        "id": "RXLRYcZCRCx5"
      }
    },
    {
      "cell_type": "code",
      "source": [
        "def metric_by_month(month, metric):\n",
        "  dt = data[data['month'] == month]\n",
        "  fig = plt.figure(figsize=(10, 5))\n",
        "  sns.barplot(data=dt, x='Дата рассылки', y = metric).set(title=f'Изменение {metric} за {month} месяц');\n",
        "  plt.xticks(rotation=65, horizontalalignment='right');"
      ],
      "metadata": {
        "id": "PcaS2xVTRCbS"
      },
      "execution_count": null,
      "outputs": []
    },
    {
      "cell_type": "code",
      "source": [
        "metric_by_month('June', 'open_rate')"
      ],
      "metadata": {
        "colab": {
          "base_uri": "https://localhost:8080/",
          "height": 496
        },
        "id": "QFLpYe6cRqMB",
        "outputId": "8e65c0aa-a953-41de-bfe4-a4765ed2e1c9"
      },
      "execution_count": null,
      "outputs": [
        {
          "output_type": "display_data",
          "data": {
            "text/plain": [
              "<Figure size 720x360 with 1 Axes>"
            ],
            "image/png": "[encoded data removed]"
          },
          "metadata": {
            "needs_background": "light"
          }
        }
      ]
    },
    {
      "cell_type": "markdown",
      "source": [
        "**Динамика click to open_rate**"
      ],
      "metadata": {
        "id": "KAivOVpTKAPT"
      }
    },
    {
      "cell_type": "code",
      "source": [
        "fig = plt.figure(figsize=(30, 5))\n",
        "sns.barplot(data=data, x='Кликов', y ='open_rate').set(title= f'Изменение click to open_rate в течение года');"
      ],
      "metadata": {
        "colab": {
          "base_uri": "https://localhost:8080/",
          "height": 270
        },
        "id": "KtvpTyRIhfgP",
        "outputId": "4f6a1df8-3572-44e9-970a-b38eb2c2010d"
      },
      "execution_count": null,
      "outputs": [
        {
          "output_type": "display_data",
          "data": {
            "text/plain": [
              "<Figure size 2160x360 with 1 Axes>"
            ],
            "image/png": "[encoded data removed]"
          },
          "metadata": {
            "needs_background": "light"
          }
        }
      ]
    },
    {
      "cell_type": "code",
      "source": [
        "fig = plt.figure(figsize=(10, 5))\n",
        "sns.lineplot(data=data, x='Кликов', y ='open_rate', hue='month').set(title= f'Изменение click to open_rate в течение каждого месяца');"
      ],
      "metadata": {
        "colab": {
          "base_uri": "https://localhost:8080/",
          "height": 350
        },
        "id": "p2Eys0vJwrXu",
        "outputId": "64e8b62e-c6e7-428e-86b3-99e854d384d6"
      },
      "execution_count": null,
      "outputs": [
        {
          "output_type": "display_data",
          "data": {
            "text/plain": [
              "<Figure size 720x360 with 1 Axes>"
            ],
            "image/png": "[encoded data removed]"
          },
          "metadata": {
            "needs_background": "light"
          }
        }
      ]
    },
    {
      "cell_type": "markdown",
      "source": [
        "**Динамика оттока базы за год**"
      ],
      "metadata": {
        "id": "2qkk1YWrU6e8"
      }
    },
    {
      "cell_type": "markdown",
      "source": [
        "При изученик динамики оттока базы за год в качетсве агрегирующей функции необходимо выбрать сумму, а не среднее. В этом случае нам важно видеть всех людей которые отписались от продукта. "
      ],
      "metadata": {
        "id": "StM_SnhJWR7B"
      }
    },
    {
      "cell_type": "code",
      "source": [
        "df2 = data.groupby('month').sum()"
      ],
      "metadata": {
        "id": "VkTPRWFPQoE3"
      },
      "execution_count": null,
      "outputs": []
    },
    {
      "cell_type": "code",
      "source": [
        "sns.lineplot(data=df2, x=df2.index, y ='Отписки').set(title= 'Общее количество отписок по месяцам')\n",
        "sns.barplot(data=df2, x=df2.index, y ='Отписки');\n",
        "plt.xticks(rotation=65, horizontalalignment='right');"
      ],
      "metadata": {
        "colab": {
          "base_uri": "https://localhost:8080/",
          "height": 339
        },
        "id": "f5KhieYXVJXM",
        "outputId": "4ced6535-d977-46af-c7d3-e4ab3b7579f8"
      },
      "execution_count": null,
      "outputs": [
        {
          "output_type": "display_data",
          "data": {
            "text/plain": [
              "<Figure size 432x288 with 1 Axes>"
            ],
            "image/png": "[encoded data removed]"
          },
          "metadata": {
            "needs_background": "light"
          }
        }
      ]
    },
    {
      "cell_type": "markdown",
      "source": [
        "Можно отметить, что больше всего человек отписалось в летние месяцы, а меньше всего в декабре и январе."
      ],
      "metadata": {
        "id": "WuepL7RWVv-H"
      }
    },
    {
      "cell_type": "markdown",
      "source": [
        "**Определим лучший день недели для отправки писем**"
      ],
      "metadata": {
        "id": "FEIhqM88XG4T"
      }
    },
    {
      "cell_type": "code",
      "source": [
        "top_day = data.groupby('day').median()"
      ],
      "metadata": {
        "id": "70KONI95VeY1"
      },
      "execution_count": null,
      "outputs": []
    },
    {
      "cell_type": "code",
      "source": [
        "top_day.sort_values(by=['AOV'], ascending=False)"
      ],
      "metadata": {
        "colab": {
          "base_uri": "https://localhost:8080/",
          "height": 269
        },
        "id": "ogpzTJOqXNyl",
        "outputId": "8174a14c-50d5-4742-df01-fa1f38ef6986"
      },
      "execution_count": null,
      "outputs": [
        {
          "output_type": "execute_result",
          "data": {
            "text/plain": [
              "           open_rate  Кликов           AOV        CR  Отписки      Доход\n",
              "day                                                                     \n",
              "Monday      0.134948  1914.0  64836.323232  0.044071    475.0  5777841.0\n",
              "Friday      0.138078  2323.5  61092.431457  0.043615    424.0  6603341.0\n",
              "Sunday      0.160115  2332.0  59223.415943  0.050617    422.0  7111330.0\n",
              "Tuesday     0.139218  2422.0  55915.096000  0.045830    440.0  6907996.0\n",
              "Saturday    0.153769  1804.0  50836.900000  0.036972    485.0  4044655.0\n",
              "Wednesday   0.143305  2259.0  44129.941748  0.053065    540.0  6023157.0"
            ],
            "text/html": [
              "\n",
              "  <div id=\"df-53909d04-1376-4e4a-a364-8f4af09ae833\">\n",
              "    <div class=\"colab-df-container\">\n",
              "      <div>\n",
              "<style scoped>\n",
              "    .dataframe tbody tr th:only-of-type {\n",
              "        vertical-align: middle;\n",
              "    }\n",
              "\n",
              "    .dataframe tbody tr th {\n",
              "        vertical-align: top;\n",
              "    }\n",
              "\n",
              "    .dataframe thead th {\n",
              "        text-align: right;\n",
              "    }\n",
              "</style>\n",
              "<table border=\"1\" class=\"dataframe\">\n",
              "  <thead>\n",
              "    <tr style=\"text-align: right;\">\n",
              "      <th></th>\n",
              "      <th>open_rate</th>\n",
              "      <th>Кликов</th>\n",
              "      <th>AOV</th>\n",
              "      <th>CR</th>\n",
              "      <th>Отписки</th>\n",
              "      <th>Доход</th>\n",
              "    </tr>\n",
              "    <tr>\n",
              "      <th>day</th>\n",
              "      <th></th>\n",
              "      <th></th>\n",
              "      <th></th>\n",
              "      <th></th>\n",
              "      <th></th>\n",
              "      <th></th>\n",
              "    </tr>\n",
              "  </thead>\n",
              "  <tbody>\n",
              "    <tr>\n",
              "      <th>Monday</th>\n",
              "      <td>0.134948</td>\n",
              "      <td>1914.0</td>\n",
              "      <td>64836.323232</td>\n",
              "      <td>0.044071</td>\n",
              "      <td>475.0</td>\n",
              "      <td>5777841.0</td>\n",
              "    </tr>\n",
              "    <tr>\n",
              "      <th>Friday</th>\n",
              "      <td>0.138078</td>\n",
              "      <td>2323.5</td>\n",
              "      <td>61092.431457</td>\n",
              "      <td>0.043615</td>\n",
              "      <td>424.0</td>\n",
              "      <td>6603341.0</td>\n",
              "    </tr>\n",
              "    <tr>\n",
              "      <th>Sunday</th>\n",
              "      <td>0.160115</td>\n",
              "      <td>2332.0</td>\n",
              "      <td>59223.415943</td>\n",
              "      <td>0.050617</td>\n",
              "      <td>422.0</td>\n",
              "      <td>7111330.0</td>\n",
              "    </tr>\n",
              "    <tr>\n",
              "      <th>Tuesday</th>\n",
              "      <td>0.139218</td>\n",
              "      <td>2422.0</td>\n",
              "      <td>55915.096000</td>\n",
              "      <td>0.045830</td>\n",
              "      <td>440.0</td>\n",
              "      <td>6907996.0</td>\n",
              "    </tr>\n",
              "    <tr>\n",
              "      <th>Saturday</th>\n",
              "      <td>0.153769</td>\n",
              "      <td>1804.0</td>\n",
              "      <td>50836.900000</td>\n",
              "      <td>0.036972</td>\n",
              "      <td>485.0</td>\n",
              "      <td>4044655.0</td>\n",
              "    </tr>\n",
              "    <tr>\n",
              "      <th>Wednesday</th>\n",
              "      <td>0.143305</td>\n",
              "      <td>2259.0</td>\n",
              "      <td>44129.941748</td>\n",
              "      <td>0.053065</td>\n",
              "      <td>540.0</td>\n",
              "      <td>6023157.0</td>\n",
              "    </tr>\n",
              "  </tbody>\n",
              "</table>\n",
              "</div>\n",
              "      <button class=\"colab-df-convert\" onclick=\"convertToInteractive('df-53909d04-1376-4e4a-a364-8f4af09ae833')\"\n",
              "              title=\"Convert this dataframe to an interactive table.\"\n",
              "              style=\"display:none;\">\n",
              "        \n",
              "  <svg xmlns=\"http://www.w3.org/2000/svg\" height=\"24px\"viewBox=\"0 0 24 24\"\n",
              "       width=\"24px\">\n",
              "    <path d=\"M0 0h24v24H0V0z\" fill=\"none\"/>\n",
              "    <path d=\"M18.56 5.44l.94 2.06.94-2.06 2.06-.94-2.06-.94-.94-2.06-.94 2.06-2.06.94zm-11 1L8.5 8.5l.94-2.06 2.06-.94-2.06-.94L8.5 2.5l-.94 2.06-2.06.94zm10 10l.94 2.06.94-2.06 2.06-.94-2.06-.94-.94-2.06-.94 2.06-2.06.94z\"/><path d=\"M17.41 7.96l-1.37-1.37c-.4-.4-.92-.59-1.43-.59-.52 0-1.04.2-1.43.59L10.3 9.45l-7.72 7.72c-.78.78-.78 2.05 0 2.83L4 21.41c.39.39.9.59 1.41.59.51 0 1.02-.2 1.41-.59l7.78-7.78 2.81-2.81c.8-.78.8-2.07 0-2.86zM5.41 20L4 18.59l7.72-7.72 1.47 1.35L5.41 20z\"/>\n",
              "  </svg>\n",
              "      </button>\n",
              "      \n",
              "  <style>\n",
              "    .colab-df-container {\n",
              "      display:flex;\n",
              "      flex-wrap:wrap;\n",
              "      gap: 12px;\n",
              "    }\n",
              "\n",
              "    .colab-df-convert {\n",
              "      background-color: #E8F0FE;\n",
              "      border: none;\n",
              "      border-radius: 50%;\n",
              "      cursor: pointer;\n",
              "      display: none;\n",
              "      fill: #1967D2;\n",
              "      height: 32px;\n",
              "      padding: 0 0 0 0;\n",
              "      width: 32px;\n",
              "    }\n",
              "\n",
              "    .colab-df-convert:hover {\n",
              "      background-color: #E2EBFA;\n",
              "      box-shadow: 0px 1px 2px rgba(60, 64, 67, 0.3), 0px 1px 3px 1px rgba(60, 64, 67, 0.15);\n",
              "      fill: #174EA6;\n",
              "    }\n",
              "\n",
              "    [theme=dark] .colab-df-convert {\n",
              "      background-color: #3B4455;\n",
              "      fill: #D2E3FC;\n",
              "    }\n",
              "\n",
              "    [theme=dark] .colab-df-convert:hover {\n",
              "      background-color: #434B5C;\n",
              "      box-shadow: 0px 1px 3px 1px rgba(0, 0, 0, 0.15);\n",
              "      filter: drop-shadow(0px 1px 2px rgba(0, 0, 0, 0.3));\n",
              "      fill: #FFFFFF;\n",
              "    }\n",
              "  </style>\n",
              "\n",
              "      <script>\n",
              "        const buttonEl =\n",
              "          document.querySelector('#df-53909d04-1376-4e4a-a364-8f4af09ae833 button.colab-df-convert');\n",
              "        buttonEl.style.display =\n",
              "          google.colab.kernel.accessAllowed ? 'block' : 'none';\n",
              "\n",
              "        async function convertToInteractive(key) {\n",
              "          const element = document.querySelector('#df-53909d04-1376-4e4a-a364-8f4af09ae833');\n",
              "          const dataTable =\n",
              "            await google.colab.kernel.invokeFunction('convertToInteractive',\n",
              "                                                     [key], {});\n",
              "          if (!dataTable) return;\n",
              "\n",
              "          const docLinkHtml = 'Like what you see? Visit the ' +\n",
              "            '<a target=\"_blank\" href=https://colab.research.google.com/notebooks/data_table.ipynb>data table notebook</a>'\n",
              "            + ' to learn more about interactive tables.';\n",
              "          element.innerHTML = '';\n",
              "          dataTable['output_type'] = 'display_data';\n",
              "          await google.colab.output.renderOutput(dataTable, element);\n",
              "          const docLink = document.createElement('div');\n",
              "          docLink.innerHTML = docLinkHtml;\n",
              "          element.appendChild(docLink);\n",
              "        }\n",
              "      </script>\n",
              "    </div>\n",
              "  </div>\n",
              "  "
            ]
          },
          "metadata": {},
          "execution_count": 274
        }
      ]
    },
    {
      "cell_type": "markdown",
      "source": [
        "На мой вгляд лучший день недели для отправки писем, тот в которой больше всего совершают покупок, следовательно выше CR и доход. Таким образом наилучший день **Восресенье**. В этот день также минимальное количество отписок."
      ],
      "metadata": {
        "id": "a6kcL0xCbDFF"
      }
    }
  ]
}